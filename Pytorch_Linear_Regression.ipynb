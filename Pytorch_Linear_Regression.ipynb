{
  "nbformat": 4,
  "nbformat_minor": 0,
  "metadata": {
    "colab": {
      "provenance": [],
      "authorship_tag": "ABX9TyO7rImI7/+07yyo0J7WWk+w",
      "include_colab_link": true
    },
    "kernelspec": {
      "name": "python3",
      "display_name": "Python 3"
    },
    "language_info": {
      "name": "python"
    }
  },
  "cells": [
    {
      "cell_type": "markdown",
      "metadata": {
        "id": "view-in-github",
        "colab_type": "text"
      },
      "source": [
        "<a href=\"https://colab.research.google.com/github/boskidisanalysis/pytorch_learning_trip/blob/main/Pytorch_Linear_Regression.ipynb\" target=\"_parent\"><img src=\"https://colab.research.google.com/assets/colab-badge.svg\" alt=\"Open In Colab\"/></a>"
      ]
    },
    {
      "cell_type": "code",
      "execution_count": 1,
      "metadata": {
        "id": "ZMx3BocXI3n9"
      },
      "outputs": [],
      "source": [
        "import torch\n",
        "from torch import nn\n",
        "import matplotlib.pyplot as plt"
      ]
    },
    {
      "cell_type": "markdown",
      "source": [
        "Check PyTorch version"
      ],
      "metadata": {
        "id": "H8Yu8SoIJS84"
      }
    },
    {
      "cell_type": "code",
      "source": [
        "torch.__version__"
      ],
      "metadata": {
        "colab": {
          "base_uri": "https://localhost:8080/",
          "height": 36
        },
        "id": "uoPntLfsJL2S",
        "outputId": "1982823e-00fc-4526-fc9a-c100dc75f55c"
      },
      "execution_count": 2,
      "outputs": [
        {
          "output_type": "execute_result",
          "data": {
            "text/plain": [
              "'1.12.1+cu113'"
            ],
            "application/vnd.google.colaboratory.intrinsic+json": {
              "type": "string"
            }
          },
          "metadata": {},
          "execution_count": 2
        }
      ]
    },
    {
      "cell_type": "markdown",
      "source": [
        "We'll use linear regression to create the data with known parameters (things that can be learned by a model) and then we'll use PyTorch to see if we can build model to estimate these parameters using gradient descent. "
      ],
      "metadata": {
        "id": "KGQEocdNJdVR"
      }
    },
    {
      "cell_type": "code",
      "source": [
        "# Create *known* parameters\n",
        "weight = 0.8\n",
        "bias = 0.4\n",
        "\n",
        "# Create data\n",
        "start = 0\n",
        "end = 1\n",
        "step = 0.02\n",
        "X = torch.arange(start, end, step).unsqueeze(dim=1)\n",
        "y = weight * X + bias\n",
        "\n",
        "X[:10], y[:10]"
      ],
      "metadata": {
        "colab": {
          "base_uri": "https://localhost:8080/"
        },
        "id": "y9LGvcXoJR6J",
        "outputId": "edbcebac-b2ea-40f4-f333-4859f50075ff"
      },
      "execution_count": 3,
      "outputs": [
        {
          "output_type": "execute_result",
          "data": {
            "text/plain": [
              "(tensor([[0.0000],\n",
              "         [0.0200],\n",
              "         [0.0400],\n",
              "         [0.0600],\n",
              "         [0.0800],\n",
              "         [0.1000],\n",
              "         [0.1200],\n",
              "         [0.1400],\n",
              "         [0.1600],\n",
              "         [0.1800]]), tensor([[0.4000],\n",
              "         [0.4160],\n",
              "         [0.4320],\n",
              "         [0.4480],\n",
              "         [0.4640],\n",
              "         [0.4800],\n",
              "         [0.4960],\n",
              "         [0.5120],\n",
              "         [0.5280],\n",
              "         [0.5440]]))"
            ]
          },
          "metadata": {},
          "execution_count": 3
        }
      ]
    },
    {
      "cell_type": "markdown",
      "source": [
        "## Split data into training and test sets "
      ],
      "metadata": {
        "id": "pBJ05-m3KVQQ"
      }
    },
    {
      "cell_type": "code",
      "source": [
        "train_split = int(0.8*len(X)) # 80% of the dataset for training and 20% for testing \n",
        "x_train, x_test = X[:train_split], X[train_split:]\n",
        "y_train, y_test = y[:train_split], y[train_split:]\n",
        "\n",
        "len(x_train), len(x_test), len(y_train), len(y_test)"
      ],
      "metadata": {
        "colab": {
          "base_uri": "https://localhost:8080/"
        },
        "id": "V2J652wmJ1ux",
        "outputId": "ac19c761-ed76-452c-b284-8d13135b50ad"
      },
      "execution_count": 4,
      "outputs": [
        {
          "output_type": "execute_result",
          "data": {
            "text/plain": [
              "(40, 10, 40, 10)"
            ]
          },
          "metadata": {},
          "execution_count": 4
        }
      ]
    },
    {
      "cell_type": "markdown",
      "source": [
        "\n",
        "We've got 40 samples for training (X_train & y_train) and 10 samples for testing (X_test & y_test).\n",
        "\n",
        "The model we'll create is going to try and learn the relationship between X_train & y_train and then we will evaluate on X_test and y_test.\n",
        "\n",
        "#Visualize"
      ],
      "metadata": {
        "id": "TzCPuW_SLYXn"
      }
    },
    {
      "cell_type": "code",
      "source": [
        "def plot_predictions(train_inputs=x_train,\n",
        "                     test_inputs=x_test,\n",
        "                     train_labels=y_train,\n",
        "                     test_labels=y_test,\n",
        "                     predictions=None):\n",
        "  \"\"\"\n",
        "  Plots training data, test data and compares predictions.\n",
        "  \"\"\"\n",
        "  plt.figure(figsize=(10,7))\n",
        "\n",
        "  #plot train inputs\n",
        "  plt.scatter(train_inputs,train_labels, c='b', label='Train Inputs')\n",
        "\n",
        "  #plot test inputs \n",
        "  plt.scatter(test_inputs, test_labels, c='g', label='Test Inputs')\n",
        "  \n",
        "  #plot predictions\n",
        "  if predictions is not None:\n",
        "    plt.scatter(test_inputs, predictions, c='r', label='Predictions')\n",
        "  plt.legend(prop={\"size\": 14});\n"
      ],
      "metadata": {
        "id": "03IsNwzELSXQ"
      },
      "execution_count": 5,
      "outputs": []
    },
    {
      "cell_type": "code",
      "source": [
        "plot_predictions()"
      ],
      "metadata": {
        "colab": {
          "base_uri": "https://localhost:8080/",
          "height": 428
        },
        "id": "17pF9xq_NbnG",
        "outputId": "d7ee18da-a5ac-4f05-f148-e2e282134bda"
      },
      "execution_count": 6,
      "outputs": [
        {
          "output_type": "display_data",
          "data": {
            "text/plain": [
              "<Figure size 720x504 with 1 Axes>"
            ],
            "image/png": "[encoded data removed]"
          },
          "metadata": {
            "needs_background": "light"
          }
        }
      ]
    },
    {
      "cell_type": "markdown",
      "source": [
        "## Model"
      ],
      "metadata": {
        "id": "XJi9YgwoNt9_"
      }
    },
    {
      "cell_type": "code",
      "source": [
        "class LinearRegressionModel(nn.Module):\n",
        "  def __init__(self):\n",
        "    super().__init__()\n",
        "    self.weights= nn.Parameter(torch.rand(1), \n",
        "                               requires_grad=True,)\n",
        "                               #dtype=torch.float)\n",
        "    self.bias = nn.Parameter(torch.rand(1),\n",
        "                             requires_grad=True,)\n",
        "                             #dtype=torch.float)\n",
        "    # Forward defines the computation in the model\n",
        "  def forward(self, x:torch.Tensor)-> torch.Tensor:\n",
        "    return self.weights*x + self.bias"
      ],
      "metadata": {
        "id": "wjLrEs1LNeQO"
      },
      "execution_count": 7,
      "outputs": []
    },
    {
      "cell_type": "code",
      "source": [
        "torch.manual_seed(32)\n",
        "\n",
        "model = LinearRegressionModel()"
      ],
      "metadata": {
        "id": "ekiBd29NPz9-"
      },
      "execution_count": 8,
      "outputs": []
    },
    {
      "cell_type": "markdown",
      "source": [
        "Observe what's in our model"
      ],
      "metadata": {
        "id": "LlIAzf8-RU3z"
      }
    },
    {
      "cell_type": "code",
      "source": [
        "list(model.parameters())"
      ],
      "metadata": {
        "colab": {
          "base_uri": "https://localhost:8080/"
        },
        "id": "E1UuLyGfP_V0",
        "outputId": "47c30b37-110b-4d42-e3fe-f023a9ce7c41"
      },
      "execution_count": 9,
      "outputs": [
        {
          "output_type": "execute_result",
          "data": {
            "text/plain": [
              "[Parameter containing:\n",
              " tensor([0.8757], requires_grad=True), Parameter containing:\n",
              " tensor([0.2721], requires_grad=True)]"
            ]
          },
          "metadata": {},
          "execution_count": 9
        }
      ]
    },
    {
      "cell_type": "code",
      "source": [
        "model.state_dict()"
      ],
      "metadata": {
        "colab": {
          "base_uri": "https://localhost:8080/"
        },
        "id": "0fauO2y3RcVD",
        "outputId": "bab5da5b-6e41-4858-b73f-347e69443a96"
      },
      "execution_count": 10,
      "outputs": [
        {
          "output_type": "execute_result",
          "data": {
            "text/plain": [
              "OrderedDict([('weights', tensor([0.8757])), ('bias', tensor([0.2721]))])"
            ]
          },
          "metadata": {},
          "execution_count": 10
        }
      ]
    },
    {
      "cell_type": "markdown",
      "source": [
        "## Making predictions without training"
      ],
      "metadata": {
        "id": "8kCmhP2dR8fK"
      }
    },
    {
      "cell_type": "code",
      "source": [
        "with torch.inference_mode():\n",
        "  y_preds = model(x_test)\n",
        "\n",
        "plot_predictions(predictions=y_preds)\n"
      ],
      "metadata": {
        "colab": {
          "base_uri": "https://localhost:8080/",
          "height": 428
        },
        "id": "UuNEQccTRuf7",
        "outputId": "5f91c7ec-00f8-4576-f395-496d014597b8"
      },
      "execution_count": 11,
      "outputs": [
        {
          "output_type": "display_data",
          "data": {
            "text/plain": [
              "<Figure size 720x504 with 1 Axes>"
            ],
            "image/png": "[encoded data removed]"
          },
          "metadata": {
            "needs_background": "light"
          }
        }
      ]
    },
    {
      "cell_type": "markdown",
      "source": [
        "# Train the Model\n",
        "Right now our model is making predictions using random parameters to make calculations, it's basically guessing (randomly).\n",
        "\n",
        "To fix that, we can update its internal parameters (I also refer to parameters as patterns), the weights and bias values we set randomly using nn.Parameter() and torch.randn() to be something that better represents the data."
      ],
      "metadata": {
        "id": "-F8bknpsTGTU"
      }
    },
    {
      "cell_type": "code",
      "source": [
        "# create a loss function\n",
        "loss_fn = nn.L1Loss() # MAE loss\n",
        "\n",
        "# create optimizer\n",
        "optimizer = torch.optim.SGD(params= model.parameters(),\n",
        "                            lr=0.01)"
      ],
      "metadata": {
        "id": "bJzLIOeGSd5j"
      },
      "execution_count": 12,
      "outputs": []
    },
    {
      "cell_type": "code",
      "source": [
        "# Training Loop\n",
        "torch.manual_seed(32)\n",
        "epochs = 25\n",
        "\n",
        "train_loss_values=[]\n",
        "test_loss_values=[]\n",
        "epoch_count=[]\n",
        "\n",
        "for epoch in range(epochs):\n",
        "  ### Training \n",
        "  # Put model in training mode\n",
        "  model.train()\n",
        "\n",
        "  # Forward pass the inputs\n",
        "  y_pred = model(x_train)\n",
        "\n",
        "  # Calculate Loss\n",
        "  loss = loss_fn(y_pred, y_train)\n",
        "\n",
        "  # Zero grad the Optimizer \n",
        "  optimizer.zero_grad()\n",
        "\n",
        "  # Back Propagate the Loss\n",
        "  loss.backward()\n",
        "\n",
        "  # Step the Optimizer \n",
        "  optimizer.step()\n",
        "\n",
        "  ### Evaluation\n",
        "  # Put model in eval mode\n",
        "  model.eval()\n",
        "  with torch.inference_mode():\n",
        "    # Forward test inputs\n",
        "    test_pred = model(x_test)\n",
        "    # Calculate loss from eval\n",
        "    test_loss = loss_fn(test_pred, y_test)\n",
        "  \n",
        "  # History Tracking\n",
        "  if epoch % 5 == 0:\n",
        "    epoch_count.append(epoch)\n",
        "    test_loss_values.append(test_loss.detach().numpy())\n",
        "    train_loss_values.append(loss.detach().numpy())\n",
        "    print(f'Epoch: {epoch} | Train Loss: {loss} | Validation Loss: {test_loss}')"
      ],
      "metadata": {
        "colab": {
          "base_uri": "https://localhost:8080/"
        },
        "id": "tUCL-v8OT7Pe",
        "outputId": "621a5a61-7afe-46f9-8f56-1985eb30dfdd"
      },
      "execution_count": 13,
      "outputs": [
        {
          "output_type": "stream",
          "name": "stdout",
          "text": [
            "Epoch: 0 | Train Loss: 0.09842830896377563 | Validation Loss: 0.04713049530982971\n",
            "Epoch: 5 | Train Loss: 0.04082336649298668 | Validation Loss: 0.020224452018737793\n",
            "Epoch: 10 | Train Loss: 0.021178852766752243 | Validation Loss: 0.04296315833926201\n",
            "Epoch: 15 | Train Loss: 0.019018525257706642 | Validation Loss: 0.042975008487701416\n",
            "Epoch: 20 | Train Loss: 0.017280912026762962 | Validation Loss: 0.03952561691403389\n"
          ]
        }
      ]
    },
    {
      "cell_type": "code",
      "source": [
        "# Plot the loss curves\n",
        "plt.plot(epoch_count, train_loss_values, label=\"Train loss\")\n",
        "plt.plot(epoch_count, test_loss_values, label=\"Validation loss\")\n",
        "plt.title(\"Training and test loss curves\")\n",
        "plt.ylabel(\"Loss\")\n",
        "plt.xlabel(\"Epochs\")\n",
        "plt.legend();"
      ],
      "metadata": {
        "colab": {
          "base_uri": "https://localhost:8080/",
          "height": 295
        },
        "id": "uaaKrjCyZwbx",
        "outputId": "f6d1c553-6b44-4442-b0e3-bfaaa0f19718"
      },
      "execution_count": 14,
      "outputs": [
        {
          "output_type": "display_data",
          "data": {
            "text/plain": [
              "<Figure size 432x288 with 1 Axes>"
            ],
            "image/png": "[encoded data removed]"
          },
          "metadata": {
            "needs_background": "light"
          }
        }
      ]
    },
    {
      "cell_type": "code",
      "source": [
        "# Find our model's learned parameters\n",
        "print(\"The model learned the following values for weights and bias:\")\n",
        "print(model.state_dict())\n",
        "print(\"\\nAnd the original values for weights and bias are:\")\n",
        "print(f\"weights: {weight}, bias: {bias}\")"
      ],
      "metadata": {
        "colab": {
          "base_uri": "https://localhost:8080/"
        },
        "id": "_a_HQj4ZZ_Tt",
        "outputId": "9d7039e3-e323-4446-9d3d-4aa27ea5e584"
      },
      "execution_count": 15,
      "outputs": [
        {
          "output_type": "stream",
          "name": "stdout",
          "text": [
            "The model learned the following values for weights and bias:\n",
            "OrderedDict([('weights', tensor([0.8774])), ('bias', tensor([0.3676]))])\n",
            "\n",
            "And the original values for weights and bias are:\n",
            "weights: 0.8, bias: 0.4\n"
          ]
        }
      ]
    },
    {
      "cell_type": "markdown",
      "source": [
        "## Inference Mode"
      ],
      "metadata": {
        "id": "dxYpvKBkbUB9"
      }
    },
    {
      "cell_type": "code",
      "source": [
        "model.eval()\n",
        "with torch.inference_mode():\n",
        "  y_preds = model(x_test)\n",
        "\n",
        "plot_predictions(predictions=y_preds)\n",
        "plt.title(f'Model Trained for {epochs} Epochs');"
      ],
      "metadata": {
        "colab": {
          "base_uri": "https://localhost:8080/",
          "height": 444
        },
        "id": "nNt9GrdAasr7",
        "outputId": "9ed37ebf-30c5-4a7e-cdb6-9f990d5f34cb"
      },
      "execution_count": 16,
      "outputs": [
        {
          "output_type": "display_data",
          "data": {
            "text/plain": [
              "<Figure size 720x504 with 1 Axes>"
            ],
            "image/png": "[encoded data removed]"
          },
          "metadata": {
            "needs_background": "light"
          }
        }
      ]
    },
    {
      "cell_type": "markdown",
      "source": [
        "## Saving Model"
      ],
      "metadata": {
        "id": "pLHAd0QxfglD"
      }
    },
    {
      "cell_type": "code",
      "source": [
        "from pathlib import Path\n",
        "\n",
        "# 1. Create models directory \n",
        "MODEL_PATH = Path(\"models\")\n",
        "MODEL_PATH.mkdir(parents=True, exist_ok=True)\n",
        "\n",
        "# 2. Create model save path \n",
        "MODEL_NAME = \"01_pytorch_workflow_model_0.pt\"\n",
        "MODEL_SAVE_PATH = MODEL_PATH / MODEL_NAME\n",
        "\n",
        "# 3. Save the model state dict \n",
        "print(f\"Saving model to: {MODEL_SAVE_PATH}\")\n",
        "torch.save(obj=model.state_dict(), # only saving the state_dict() only saves the models learned parameters\n",
        "           f=MODEL_SAVE_PATH)"
      ],
      "metadata": {
        "colab": {
          "base_uri": "https://localhost:8080/"
        },
        "id": "00bktfdLbsy0",
        "outputId": "062b6ace-adcd-4084-de67-763e2c4d1f13"
      },
      "execution_count": 17,
      "outputs": [
        {
          "output_type": "stream",
          "name": "stdout",
          "text": [
            "Saving model to: models/01_pytorch_workflow_model_0.pt\n"
          ]
        }
      ]
    },
    {
      "cell_type": "markdown",
      "source": [
        "## Loading Model"
      ],
      "metadata": {
        "id": "cb1anUDXga9J"
      }
    },
    {
      "cell_type": "code",
      "source": [
        "# Instantiate a new instance of our model (this will be instantiated with random weights)\n",
        "loaded_model_0 = LinearRegressionModel()\n",
        "\n",
        "# Load the state_dict of our saved model (this will update the new instance of our model with trained weights)\n",
        "loaded_model_0.load_state_dict(torch.load(f=MODEL_SAVE_PATH))"
      ],
      "metadata": {
        "colab": {
          "base_uri": "https://localhost:8080/"
        },
        "id": "_84cwHncfl-x",
        "outputId": "b2ca97ba-475b-4442-fe93-e315947db701"
      },
      "execution_count": 18,
      "outputs": [
        {
          "output_type": "execute_result",
          "data": {
            "text/plain": [
              "<All keys matched successfully>"
            ]
          },
          "metadata": {},
          "execution_count": 18
        }
      ]
    },
    {
      "cell_type": "markdown",
      "source": [
        "## Creating a Linear Model"
      ],
      "metadata": {
        "id": "ibwK46agEdGi"
      }
    },
    {
      "cell_type": "code",
      "source": [
        "class LinearRegressionModelV2(nn.Module):\n",
        "  def __init__(self):\n",
        "    super().__init__()\n",
        "    #Linear Layer\n",
        "    self.linear_layer = nn.Linear(in_features=1, out_features=1)\n",
        "  def forward(self, x:torch.Tensor) -> torch.Tensor:\n",
        "    return self.linear_layer(x)\n"
      ],
      "metadata": {
        "id": "pHRe7TcZgdBw"
      },
      "execution_count": 48,
      "outputs": []
    },
    {
      "cell_type": "code",
      "source": [
        "device = 'cuda' if torch.cuda.is_available() else 'cpu'"
      ],
      "metadata": {
        "id": "7BPmbpXKGITn"
      },
      "execution_count": 49,
      "outputs": []
    },
    {
      "cell_type": "code",
      "source": [
        "torch.manual_seed(32)\n",
        "model_1 = LinearRegressionModelV2()\n",
        "model_1, model_1.state_dict()"
      ],
      "metadata": {
        "colab": {
          "base_uri": "https://localhost:8080/"
        },
        "id": "dPTp1ywPFmrf",
        "outputId": "ccc278cf-195a-4285-f499-67cadbef9334"
      },
      "execution_count": 50,
      "outputs": [
        {
          "output_type": "execute_result",
          "data": {
            "text/plain": [
              "(LinearRegressionModelV2(\n",
              "   (linear_layer): Linear(in_features=1, out_features=1, bias=True)\n",
              " ),\n",
              " OrderedDict([('linear_layer.weight', tensor([[0.7513]])),\n",
              "              ('linear_layer.bias', tensor([-0.4559]))]))"
            ]
          },
          "metadata": {},
          "execution_count": 50
        }
      ]
    },
    {
      "cell_type": "code",
      "source": [
        "next(model_1.parameters()).device"
      ],
      "metadata": {
        "colab": {
          "base_uri": "https://localhost:8080/"
        },
        "id": "FwttsLWTF2E_",
        "outputId": "591e731f-a74a-4779-c1eb-38f30e332fc0"
      },
      "execution_count": 51,
      "outputs": [
        {
          "output_type": "execute_result",
          "data": {
            "text/plain": [
              "device(type='cpu')"
            ]
          },
          "metadata": {},
          "execution_count": 51
        }
      ]
    },
    {
      "cell_type": "code",
      "source": [
        "model_1.to(device)\n",
        "next(model_1.parameters()).device"
      ],
      "metadata": {
        "colab": {
          "base_uri": "https://localhost:8080/"
        },
        "id": "X6uf8yAPGb_2",
        "outputId": "1bd968a0-8dde-4aca-8696-69b0b508c233"
      },
      "execution_count": 52,
      "outputs": [
        {
          "output_type": "execute_result",
          "data": {
            "text/plain": [
              "device(type='cpu')"
            ]
          },
          "metadata": {},
          "execution_count": 52
        }
      ]
    },
    {
      "cell_type": "markdown",
      "source": [
        "## Training"
      ],
      "metadata": {
        "id": "1NrXh3SnHhI-"
      }
    },
    {
      "cell_type": "code",
      "source": [
        "# Loss \n",
        "loss_fn = nn.L1Loss()\n",
        "# Optimizer\n",
        "optimizer = torch.optim.SGD(params= model_1.parameters(),\n",
        "                            lr=0.01)"
      ],
      "metadata": {
        "id": "QbnHcn4fHbDt"
      },
      "execution_count": 53,
      "outputs": []
    },
    {
      "cell_type": "code",
      "source": [
        "torch.manual_seed(32)\n",
        "\n",
        "# Set the number of epochs \n",
        "epochs = 1000 \n",
        "\n",
        "# Put data on the available device\n",
        "# Without this, error will happen (not all model/data on device)\n",
        "x_train = x_train.to(device)\n",
        "x_test = x_test.to(device)\n",
        "y_train = y_train.to(device)\n",
        "y_test = y_test.to(device)\n",
        "\n",
        "train_loss_values=[]\n",
        "test_loss_values=[]\n",
        "epoch_count=[]\n",
        "\n",
        "### Training loop\n",
        "for epoch in range(epochs):\n",
        "  # Set model to train mode\n",
        "  model_1.train()\n",
        "\n",
        "  # Forward Pass\n",
        "  y_pred = model_1(x_train)\n",
        "  # Compute Loss\n",
        "  loss = loss_fn(y_pred, y_train)\n",
        "  # Zero Grad Optimizer \n",
        "  optimizer.zero_grad()\n",
        "  # Loss Backward \n",
        "  loss.backward()\n",
        "  # Optimizer step\n",
        "  optimizer.step()\n",
        "\n",
        "  ### Evaluation\n",
        "  model_1.eval()\n",
        "  with torch.inference_mode():\n",
        "    test_pred = model_1(x_test)\n",
        "    eval_loss = loss_fn(test_pred, y_test)\n",
        "  \n",
        "  if epoch % 100 ==0: \n",
        "    epoch_count.append(epoch)\n",
        "    test_loss_values.append(eval_loss.detach().numpy())\n",
        "    train_loss_values.append(loss.detach().numpy())\n",
        "    print(f\"Epoch: {epoch} | Train loss: {loss} | Test loss: {eval_loss}\")\n"
      ],
      "metadata": {
        "colab": {
          "base_uri": "https://localhost:8080/"
        },
        "id": "FkGrwm7_H9bc",
        "outputId": "9d5543d1-9737-4341-8fe4-adbbba96af0e"
      },
      "execution_count": 54,
      "outputs": [
        {
          "output_type": "stream",
          "name": "stdout",
          "text": [
            "Epoch: 0 | Train loss: 0.8748565912246704 | Test loss: 0.8857319951057434\n",
            "Epoch: 100 | Train loss: 0.039799075573682785 | Test loss: 0.09232868999242783\n",
            "Epoch: 200 | Train loss: 0.005449297837913036 | Test loss: 0.01166391372680664\n",
            "Epoch: 300 | Train loss: 0.003996598534286022 | Test loss: 0.005161285400390625\n",
            "Epoch: 400 | Train loss: 0.003996598534286022 | Test loss: 0.005161285400390625\n",
            "Epoch: 500 | Train loss: 0.003996598534286022 | Test loss: 0.005161285400390625\n",
            "Epoch: 600 | Train loss: 0.003996598534286022 | Test loss: 0.005161285400390625\n",
            "Epoch: 700 | Train loss: 0.003996598534286022 | Test loss: 0.005161285400390625\n",
            "Epoch: 800 | Train loss: 0.003996598534286022 | Test loss: 0.005161285400390625\n",
            "Epoch: 900 | Train loss: 0.003996598534286022 | Test loss: 0.005161285400390625\n"
          ]
        }
      ]
    },
    {
      "cell_type": "code",
      "source": [
        "# Plot the loss curves\n",
        "plt.plot(epoch_count, train_loss_values, label=\"Train loss\")\n",
        "plt.plot(epoch_count, test_loss_values, label=\"Validation loss\")\n",
        "plt.title(\"Training and test loss curves\")\n",
        "plt.ylabel(\"Loss\")\n",
        "plt.xlabel(\"Epochs\")\n",
        "plt.legend();"
      ],
      "metadata": {
        "colab": {
          "base_uri": "https://localhost:8080/",
          "height": 295
        },
        "id": "bv91iS2zKTQJ",
        "outputId": "042d63cc-5186-45e4-d05e-4e2853579ebb"
      },
      "execution_count": 57,
      "outputs": [
        {
          "output_type": "display_data",
          "data": {
            "text/plain": [
              "<Figure size 432x288 with 1 Axes>"
            ],
            "image/png": "[encoded data removed]"
          },
          "metadata": {
            "needs_background": "light"
          }
        }
      ]
    },
    {
      "cell_type": "code",
      "source": [
        "with torch.inference_mode():\n",
        "  y_preds = model_1(x_test)\n",
        "\n",
        "plot_predictions(predictions=y_preds)"
      ],
      "metadata": {
        "colab": {
          "base_uri": "https://localhost:8080/",
          "height": 428
        },
        "id": "iICtwqxcLMa6",
        "outputId": "b1088a8f-96a7-4d08-885a-c6ff5e81e45c"
      },
      "execution_count": 55,
      "outputs": [
        {
          "output_type": "display_data",
          "data": {
            "text/plain": [
              "<Figure size 720x504 with 1 Axes>"
            ],
            "image/png": "[encoded data removed]"
          },
          "metadata": {
            "needs_background": "light"
          }
        }
      ]
    },
    {
      "cell_type": "code",
      "source": [
        "# Find our model's learned parameters\n",
        "from pprint import pprint # pprint = pretty print, see: https://docs.python.org/3/library/pprint.html \n",
        "print(\"The model learned the following values for weights and bias:\")\n",
        "pprint(model_1.state_dict())\n",
        "print(\"\\nAnd the original values for weights and bias are:\")\n",
        "print(f\"weights: {weight}, bias: {bias}\")"
      ],
      "metadata": {
        "colab": {
          "base_uri": "https://localhost:8080/"
        },
        "id": "Kcwg0x5qLdRa",
        "outputId": "7965d3dc-3677-4fd1-bc31-97bfaa5a5223"
      },
      "execution_count": 56,
      "outputs": [
        {
          "output_type": "stream",
          "name": "stdout",
          "text": [
            "The model learned the following values for weights and bias:\n",
            "OrderedDict([('linear_layer.weight', tensor([[0.8086]])),\n",
            "             ('linear_layer.bias', tensor([0.4006]))])\n",
            "\n",
            "And the original values for weights and bias are:\n",
            "weights: 0.8, bias: 0.4\n"
          ]
        }
      ]
    },
    {
      "cell_type": "code",
      "source": [],
      "metadata": {
        "id": "yo8e4PoULjCK"
      },
      "execution_count": null,
      "outputs": []
    }
  ]
}